{
 "cells": [
  {
   "cell_type": "code",
   "execution_count": 41,
   "id": "6b62d0ad",
   "metadata": {},
   "outputs": [],
   "source": [
    "import boto3\n",
    "import pandas as pd\n",
    "from io import StringIO,BytesIO # to read csv using s3 storage\n",
    "from datetime import datetime, timedelta \n",
    "from azure.storage.blob import BlobServiceClient, BlobClient, ContainerClient"
   ]
  },
  {
   "cell_type": "code",
   "execution_count": 42,
   "id": "9879e0cd",
   "metadata": {},
   "outputs": [],
   "source": [
    "arg_date = '2022-12-28'\n",
    "suorce_date_format = '%Y-%m-%d'\n",
    "duet_xetra_source = 'xetra-1234'\n",
    "target_bucket = 'xetra-destination'\n",
    "keys = 'parquet/xetra_daily_report_'+datetime.today().strftime('%y%m%d_%H%M%S')+'.parquet'\n",
    "cols_needed = ['ISIN', 'Date', 'Time', 'StartPrice', 'MaxPrice', 'MinPrice','EndPrice', 'TradedVolume', 'NumberOfTrades']\n",
    "az_des_con_str = 'DefaultEndpointsProtocol=https;AccountName=xetradestination;AccountKey=jHuTzDSICJbvjv/YKkQescXmPJg8Gntu/U1/P36fXqssoTAjPj7LCyo/lj1tTcjeSBaoY2IzFyKe+AStvRyTtQ==;EndpointSuffix=core.windows.net'"
   ]
  },
  {
   "cell_type": "code",
   "execution_count": 43,
   "id": "9acf53af",
   "metadata": {},
   "outputs": [],
   "source": [
    "arg_date_dt = datetime.strptime(arg_date,suorce_date_format ).date() - timedelta(days=1) "
   ]
  },
  {
   "cell_type": "code",
   "execution_count": 44,
   "id": "a3c23e9c",
   "metadata": {},
   "outputs": [
    {
     "data": {
      "text/plain": [
       "datetime.date(2022, 12, 27)"
      ]
     },
     "execution_count": 44,
     "metadata": {},
     "output_type": "execute_result"
    }
   ],
   "source": [
    "arg_date_dt"
   ]
  },
  {
   "cell_type": "code",
   "execution_count": 45,
   "id": "25b354a2",
   "metadata": {},
   "outputs": [],
   "source": [
    "s3 = boto3.resource('s3')\n",
    "bucket = s3.Bucket(duet_xetra_source) \n",
    "objects = [obj for obj in bucket.objects.all() if datetime.strptime(str(obj.key).split('/')[0], '%Y-%m-%d').date() >= arg_date_dt]"
   ]
  },
  {
   "cell_type": "markdown",
   "id": "92f4bcb6",
   "metadata": {},
   "source": [
    "## CREATING THE Pandas table "
   ]
  },
  {
   "cell_type": "code",
   "execution_count": 46,
   "id": "f9327c85",
   "metadata": {},
   "outputs": [],
   "source": [
    "def csv_to_pandas(filename):\n",
    "    csv_obj = bucket.Object(key=filename).get().get('Body').read().decode('utf-8')\n",
    "    data = StringIO(csv_obj)\n",
    "    df = pd.read_csv(data, delimiter=',')\n",
    "    return df\n",
    "df_all = pd.DataFrame()\n",
    "df_all = pd.concat([csv_to_pandas(obj.key) for obj in objects],ignore_index=True)\n"
   ]
  },
  {
   "cell_type": "markdown",
   "id": "ad4a1364",
   "metadata": {},
   "source": [
    "## Extracting the Needed Column to calculate the outputs"
   ]
  },
  {
   "cell_type": "code",
   "execution_count": 47,
   "id": "8be1f155",
   "metadata": {},
   "outputs": [],
   "source": [
    "df_all = df_all.loc[:,cols_needed]"
   ]
  },
  {
   "cell_type": "code",
   "execution_count": 48,
   "id": "bf2d6fde",
   "metadata": {},
   "outputs": [],
   "source": [
    "df_all.dropna(inplace=True)"
   ]
  },
  {
   "cell_type": "markdown",
   "id": "4d9f9780",
   "metadata": {},
   "source": [
    "## Get opening price for ISIN per date."
   ]
  },
  {
   "cell_type": "code",
   "execution_count": 49,
   "id": "4722e736",
   "metadata": {},
   "outputs": [],
   "source": [
    "df_all['opening_price'] = df_all.sort_values(by=['Time']).groupby(['ISIN','Date'])['StartPrice'].transform('first')"
   ]
  },
  {
   "cell_type": "markdown",
   "id": "a3b98921",
   "metadata": {},
   "source": [
    "## Closing Price For ISIN per date."
   ]
  },
  {
   "cell_type": "code",
   "execution_count": 50,
   "id": "99d5e2e8",
   "metadata": {},
   "outputs": [],
   "source": [
    "df_all['closing_price'] = df_all.sort_values(by=['Time']).groupby(['ISIN','Date'])['StartPrice'].transform('last')"
   ]
  },
  {
   "cell_type": "code",
   "execution_count": 51,
   "id": "50713222",
   "metadata": {},
   "outputs": [],
   "source": [
    "df_all = df_all.groupby(['ISIN','Date'], as_index=True)"
   ]
  },
  {
   "cell_type": "code",
   "execution_count": 52,
   "id": "babb6dd4",
   "metadata": {},
   "outputs": [],
   "source": [
    "df_all = df_all.agg(\n",
    "    opening_price_euro=('opening_price','min'), \n",
    "    closing_price_euro=('closing_price','min'), \n",
    "    minimum_price_euro=('MinPrice','min'), \n",
    "    maxmimum_price_euro=('MaxPrice','max'), \n",
    "    daily_traded_volume=('TradedVolume','sum') )"
   ]
  },
  {
   "cell_type": "markdown",
   "id": "82f62db0",
   "metadata": {},
   "source": [
    "# Prev - Pres Closing Price"
   ]
  },
  {
   "cell_type": "code",
   "execution_count": 53,
   "id": "5752cb92",
   "metadata": {},
   "outputs": [],
   "source": [
    "df_all['prev_closing_price'] = df_all.sort_values(by=['Date']).groupby(['ISIN'])['closing_price_euro'].shift(1)"
   ]
  },
  {
   "cell_type": "code",
   "execution_count": 54,
   "id": "57f7aadf",
   "metadata": {},
   "outputs": [],
   "source": [
    "df_all['change_prev_closing_precent'] = (df_all['closing_price_euro'] - df_all['prev_closing_price']) / df_all['prev_closing_price'] * 100"
   ]
  },
  {
   "cell_type": "code",
   "execution_count": 55,
   "id": "2efc4ba9",
   "metadata": {},
   "outputs": [],
   "source": [
    "df_all.drop(columns=['closing_price_euro'], inplace=True)"
   ]
  },
  {
   "cell_type": "code",
   "execution_count": 56,
   "id": "26d0647d",
   "metadata": {},
   "outputs": [],
   "source": [
    "df_all = df_all.round(decimals=2)"
   ]
  },
  {
   "cell_type": "markdown",
   "id": "63ae93d9",
   "metadata": {},
   "source": [
    "## AWS Write to Bucket xetra-destination"
   ]
  },
  {
   "cell_type": "code",
   "execution_count": 57,
   "id": "134cfbfa",
   "metadata": {},
   "outputs": [],
   "source": [
    "output_buffer = BytesIO()"
   ]
  },
  {
   "cell_type": "code",
   "execution_count": 58,
   "id": "8d850afa",
   "metadata": {},
   "outputs": [],
   "source": [
    "df_all.to_parquet(output_buffer, index=False)"
   ]
  },
  {
   "cell_type": "code",
   "execution_count": 59,
   "id": "ced7eb96",
   "metadata": {},
   "outputs": [],
   "source": [
    "bucket_target = s3.Bucket(target_bucket)"
   ]
  },
  {
   "cell_type": "code",
   "execution_count": 60,
   "id": "627a4fe7",
   "metadata": {},
   "outputs": [
    {
     "data": {
      "text/plain": [
       "s3.Object(bucket_name='xetra-destination', key='parquet/xetra_daily_report_230101_161249.parquet')"
      ]
     },
     "execution_count": 60,
     "metadata": {},
     "output_type": "execute_result"
    }
   ],
   "source": [
    "bucket_target.put_object(Body=output_buffer.getvalue(),Key=keys)"
   ]
  },
  {
   "cell_type": "markdown",
   "id": "5f022790",
   "metadata": {},
   "source": [
    "## Read the uploaded file from AWS"
   ]
  },
  {
   "cell_type": "code",
   "execution_count": 62,
   "id": "7c0c0931",
   "metadata": {},
   "outputs": [
    {
     "name": "stdout",
     "output_type": "stream",
     "text": [
      "parquet/xetra_daily_report_221230_134318.parquet\n",
      "parquet/xetra_daily_report_230101_151136.parquet\n",
      "parquet/xetra_daily_report_230101_161249.parquet\n"
     ]
    }
   ],
   "source": [
    "df_report = []\n",
    "for obj in bucket_target.objects.all():\n",
    "    print(obj.key)\n",
    "    parquet_obj = bucket_target.Object(key=obj.key).get().get('Body').read()\n",
    "    data = BytesIO(parquet_obj)\n",
    "    df_report.append({obj.key:pd.read_parquet(data)})"
   ]
  },
  {
   "cell_type": "code",
   "execution_count": null,
   "id": "44950dde",
   "metadata": {},
   "outputs": [],
   "source": []
  }
 ],
 "metadata": {
  "kernelspec": {
   "display_name": "Python 3 (ipykernel)",
   "language": "python",
   "name": "python3"
  },
  "language_info": {
   "codemirror_mode": {
    "name": "ipython",
    "version": 3
   },
   "file_extension": ".py",
   "mimetype": "text/x-python",
   "name": "python",
   "nbconvert_exporter": "python",
   "pygments_lexer": "ipython3",
   "version": "3.9.0"
  }
 },
 "nbformat": 4,
 "nbformat_minor": 5
}
