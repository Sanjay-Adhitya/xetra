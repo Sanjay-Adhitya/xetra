{
 "cells": [
  {
   "cell_type": "markdown",
   "id": "ecfab0d8",
   "metadata": {},
   "source": [
    "## 1. Upload data to APLO_SOURCE (aplo-source)"
   ]
  },
  {
   "cell_type": "code",
   "execution_count": 74,
   "id": "ac16e7fe",
   "metadata": {},
   "outputs": [],
   "source": [
    "import glob, json, shutil, boto3, uuid, ast\n",
    "from datetime import datetime, timedelta \n",
    "from azure.storage.blob import BlobServiceClient, BlobClient, ContainerClient\n",
    "\n",
    "az_des_con_str = 'DefaultEndpointsProtocol=https;AccountName=xetradestination;AccountKey=jHuTzDSICJbvjv/YKkQescXmPJg8Gntu/U1/P36fXqssoTAjPj7LCyo/lj1tTcjeSBaoY2IzFyKe+AStvRyTtQ==;EndpointSuffix=core.windows.net'\n",
    "join_str = '.'\n",
    "org_asep_oid = {\n",
    "    \"assigner\": {\n",
    "        \"reference\": \"Apolo\",\n",
    "        \"system\": \"OID_for_ASEP\",\n",
    "        \"value\": \"urn:oid:\"\n",
    "    }\n",
    "}\n",
    "\n",
    "resource_list = ['Appointment','MedicationAdministration',\n",
    "                 'Condition','Coverage','Medication',\n",
    "                 'MedicationRequest','MedicationStatement',\n",
    "                 'Observation','DiagnosticReport',\n",
    "                 'AllergyIntolerance','Procedure']\n",
    "\n",
    "# AWS Source\n",
    "s3 = boto3.resource('s3')\n",
    "bucket_target_source = s3.Bucket('aplo-source') \n",
    "client_del = boto3.client('s3')\n",
    "\n",
    "# Azure Destination\n",
    "blob_service_client = BlobServiceClient.from_connection_string(az_des_con_str)\n",
    "container_client_destination = blob_service_client.get_container_client('aplo-destination')\n",
    "\n",
    "# get look up file from the destination folder.\n",
    "blob_list = container_client_destination.download_blob('look_up.json').readall()\n",
    "blob_list = json.loads(blob_list)\n"
   ]
  },
  {
   "cell_type": "code",
   "execution_count": 75,
   "id": "ee0da8c9",
   "metadata": {},
   "outputs": [],
   "source": [
    "def organization(entry,blob_service_client,blob_list):\n",
    "    \n",
    "    # Check if the organization already exists in lookup file then its a update senario.\n",
    "    if len(entry['resource']['identifier']) > 0:\n",
    "        \n",
    "        if entry['resource']['identifier'][0][\"assigner\"][\"value\"] in blob_list['organization']:\n",
    "            \n",
    "            # it is an update senario\n",
    "            # no changes just add update\n",
    "            blob_client = blob_service_client.get_blob_client(\n",
    "                container='aplo-destination', \n",
    "                blob=entry['resource']['identifier'][\"assigner\"][\"value\"]+\"/\"+\n",
    "                entry['resource']['resourceType']+\n",
    "                \"_\"+entry['resource']['id']+\"_\"+str(uuid.uuid4())+\".json\")\n",
    "            \n",
    "            blob_client.upload_blob(json.dumps(entry),overwrite=True)\n",
    "\n",
    "        else:\n",
    "            \n",
    "             # it is an invalid OID senario\n",
    "            pass\n",
    "    else:\n",
    "\n",
    "        if len(blob_list['organization']) > 0:\n",
    "\n",
    "            # lookup changes\n",
    "            recent_prev_oid = blob_list['organization'][len(blob_list['organization']) - 1]\n",
    "            recent_prev_oid_final_index = int(recent_prev_oid.split('.')[len(recent_prev_oid.split('.')) - 1])\n",
    "            new_oid_final_index = recent_prev_oid_final_index + 1\n",
    "            prefix_oid = join_str.join(recent_prev_oid.split('.')[0:len(recent_prev_oid.split('.')) - 1])\n",
    "            current_oid = prefix_oid+\".\"+str(new_oid_final_index)\n",
    "            blob_list['organization'].append(current_oid)\n",
    "\n",
    "\n",
    "            # upload lookup\n",
    "            blob_client = blob_service_client.get_blob_client(container='aplo-destination', blob='look_up.json')\n",
    "            blob_client.upload_blob(json.dumps(blob_list),overwrite=True)\n",
    "\n",
    "\n",
    "            # add the one more oid into the look up and add identifier into resource.\n",
    "            org_asep_oid[\"assigner\"][\"value\"] = org_asep_oid[\"assigner\"][\"value\"] + current_oid\n",
    "            entry['resource']['identifier'].append(org_asep_oid)\n",
    "            blob_client = blob_service_client.get_blob_client(\n",
    "                container='aplo-destination', \n",
    "                blob=current_oid+\"/\"+\n",
    "                entry['resource']['resourceType']+\n",
    "                \"_\"+entry['resource']['id']+\"_\"+str(uuid.uuid4())+\".json\")\n",
    "            blob_client.upload_blob(json.dumps(entry),overwrite=True)\n",
    "\n",
    "        else:\n",
    "\n",
    "            # lookup changes\n",
    "            blob_list['organization'].append('2.16.840.1.119358475923.1')\n",
    "            # upload lookup\n",
    "            blob_client = blob_service_client.get_blob_client(container='aplo-destination', blob='look_up.json')\n",
    "            blob_client.upload_blob(json.dumps(blob_list),overwrite=True)\n",
    "\n",
    "\n",
    "            # add the one more oid into the look up and add identifier into resource.\n",
    "            org_asep_oid[\"assigner\"][\"value\"] = org_asep_oid[\"assigner\"][\"value\"] + \"2.16.840.1.119358475923.1\"\n",
    "            entry['resource']['identifier'].append(org_asep_oid)\n",
    "\n",
    "\n",
    "            # upload org data\n",
    "            blob_client = blob_service_client.get_blob_client(\n",
    "                container='aplo-destination', \n",
    "                blob=\"2.16.840.1.119358475923.1\"+\"/\"+\n",
    "                entry['resource']['resourceType']+\n",
    "                \"_\"+entry['resource']['id']+\"_\"+str(uuid.uuid4())+\".json\")\n",
    "            blob_client.upload_blob(json.dumps(entry),overwrite=True)\n"
   ]
  },
  {
   "cell_type": "code",
   "execution_count": null,
   "id": "662ba899",
   "metadata": {},
   "outputs": [],
   "source": [
    "def practitioner(blob_service_client, entry):\n",
    "    blob_client = blob_service_client.get_blob_client(\n",
    "                container='aplo-destination', \n",
    "                blob=\"2.16.840.1.119358475923.1\"+\"/\"+\n",
    "                entry['resource']['resourceType']+\n",
    "                \"_\"+entry['resource']['id']+\"_\"+str(uuid.uuid4())+\".json\")\n",
    "    blob_client.upload_blob(json.dumps(entry),overwrite=True)\n",
    "\n"
   ]
  },
  {
   "cell_type": "code",
   "execution_count": 76,
   "id": "521e5c11",
   "metadata": {},
   "outputs": [],
   "source": [
    "def main(blob_service_client,blob_list,bucket_target_source):\n",
    "    # read all data from source \n",
    "    \n",
    "    for obj in bucket_target_source.objects.all():\n",
    "        data_obj = bucket_target_source.Object(key=obj.key).get().get('Body').read().decode('utf8').replace(\"'\",'\"')\n",
    "        data_obj = json.loads(data_obj)\n",
    "\n",
    "        for entry in data_obj['entry']:\n",
    "\n",
    "            if str(entry['resource']['resourceType']).title() in resource_list:\n",
    "                pass\n",
    "\n",
    "            elif str(entry['resource']['resourceType']).title() == 'Organization':\n",
    "                organization(entry,blob_service_client,blob_list)   \n",
    "\n",
    "            elif str(j['resource']['resourceType']).title() =='Practitioner':\n",
    "                practitioner(blob_service_client, entry)\n",
    "\n",
    "            else:\n",
    "                pass\n",
    "\n",
    "        client_del.delete_object(Bucket='aplo-source', Key=obj.key)"
   ]
  },
  {
   "cell_type": "code",
   "execution_count": 77,
   "id": "21b600d8",
   "metadata": {},
   "outputs": [],
   "source": [
    "main(blob_service_client,blob_list,bucket_target_source)"
   ]
  },
  {
   "cell_type": "code",
   "execution_count": 78,
   "id": "36b78a0e",
   "metadata": {},
   "outputs": [
    {
     "data": {
      "text/plain": [
       "{'organization': ['2.16.840.1.119358475923.1',\n",
       "  '2.16.840.1.119358475923.2',\n",
       "  '2.16.840.1.119358475923.3',\n",
       "  '2.16.840.1.119358475923.4',\n",
       "  '2.16.840.1.119358475923.5',\n",
       "  '2.16.840.1.119358475923.6',\n",
       "  '2.16.840.1.119358475923.7',\n",
       "  '2.16.840.1.119358475923.8',\n",
       "  '2.16.840.1.119358475923.9'],\n",
       " 'practitioner': [],\n",
       " 'patient': []}"
      ]
     },
     "execution_count": 78,
     "metadata": {},
     "output_type": "execute_result"
    }
   ],
   "source": [
    "# get look up file from the destination folder.\n",
    "blob_list = container_client_destination.download_blob('look_up.json').readall()\n",
    "blob_list = json.loads(blob_list)\n",
    "blob_list"
   ]
  },
  {
   "cell_type": "code",
   "execution_count": null,
   "id": "de8d8fcf",
   "metadata": {},
   "outputs": [],
   "source": []
  },
  {
   "cell_type": "code",
   "execution_count": null,
   "id": "3805aa08",
   "metadata": {},
   "outputs": [],
   "source": []
  },
  {
   "cell_type": "code",
   "execution_count": null,
   "id": "e30a7035",
   "metadata": {},
   "outputs": [],
   "source": []
  }
 ],
 "metadata": {
  "kernelspec": {
   "display_name": "Python 3 (ipykernel)",
   "language": "python",
   "name": "python3"
  },
  "language_info": {
   "codemirror_mode": {
    "name": "ipython",
    "version": 3
   },
   "file_extension": ".py",
   "mimetype": "text/x-python",
   "name": "python",
   "nbconvert_exporter": "python",
   "pygments_lexer": "ipython3",
   "version": "3.9.0"
  },
  "vscode": {
   "interpreter": {
    "hash": "0d591c6e422414675974e227c13f5382000c440fedd3c5006ef2be5d887f0ba7"
   }
  }
 },
 "nbformat": 4,
 "nbformat_minor": 5
}
