{
 "cells": [
  {
   "cell_type": "code",
   "execution_count": 26,
   "id": "87980375",
   "metadata": {},
   "outputs": [],
   "source": [
    "import logging, json\n",
    "import boto3\n",
    "import pandas as pd\n",
    "from io import StringIO,BytesIO # to read csv using s3 storage\n",
    "from datetime import datetime, timedelta "
   ]
  },
  {
   "cell_type": "code",
   "execution_count": 48,
   "id": "06494409",
   "metadata": {},
   "outputs": [],
   "source": [
    "def return_objects(bucket,arg_date,source_date_format):\n",
    "    return return_date_list(bucket,arg_date,source_date_format)\n",
    "\n",
    "def list_files_in_prefix(bucket, prefix):\n",
    "    files = [obj for obj in bucket.objects.filter(Prefix=prefix)]\n",
    "    return files\n",
    "\n",
    "def return_date_list(bucket,arg_date,source_date_format):\n",
    "    min_date = datetime.strptime(arg_date,source_date_format).date() - timedelta(days=1) \n",
    "    today_date = datetime.today().date()\n",
    "    list = [(min_date + timedelta(days=x)).strftime(source_date_format) for x in range(0, (today_date-min_date).days + 1)]\n",
    "    return list\n",
    "\n",
    "#     arg_date_dt = datetime.strptime(arg_date,source_date_format).date() - timedelta(days=1) \n",
    "#     objects = [obj for obj in bucket.objects.all() if datetime.strptime(str(obj.key).split('/')[0], '%Y-%m-%d').date() >= arg_date_dt]\n",
    "#     return objects"
   ]
  },
  {
   "cell_type": "code",
   "execution_count": 17,
   "id": "5f889c98",
   "metadata": {},
   "outputs": [],
   "source": [
    "def return_report_1(objects, bucket, cols_needed):\n",
    "    df_all = pd.DataFrame()\n",
    "    df_all = return_inital_df(bucket, objects)\n",
    "    df_all_final = transport_report_1(df_all, cols_needed)\n",
    "    return df_all_final"
   ]
  },
  {
   "cell_type": "code",
   "execution_count": 18,
   "id": "393c5ff0",
   "metadata": {},
   "outputs": [],
   "source": [
    "def return_inital_df(bucket, prefix):\n",
    "    objects = list_files_in_prefix(bucket, prefix)\n",
    "    df_all = pd.concat([read_csv_to_df(obj.key, bucket) for obj in objects],ignore_index=True)\n",
    "    return df_all    "
   ]
  },
  {
   "cell_type": "code",
   "execution_count": 19,
   "id": "5e0c3947",
   "metadata": {},
   "outputs": [],
   "source": [
    "def read_csv_to_df(filename, bucket, decoder='utf-8', delimiter=','):\n",
    "    csv_obj = bucket.Object(key=filename).get().get('Body').read().decode(decoder)\n",
    "    data = StringIO(csv_obj)\n",
    "    df = pd.read_csv(data, delimiter=delimiter)\n",
    "    return df"
   ]
  },
  {
   "cell_type": "code",
   "execution_count": 20,
   "id": "22cdc384",
   "metadata": {},
   "outputs": [],
   "source": [
    "def transport_report_1(df_all, cols_needed):\n",
    "    df_all = df_all.loc[:,cols_needed]\n",
    "    df_all.dropna(inplace=True)\n",
    "\n",
    "    # calculatig data needed and creatin`g the df output\n",
    "    df_all = xetra_report_1(df_all)\n",
    "    return df_all"
   ]
  },
  {
   "cell_type": "code",
   "execution_count": 21,
   "id": "bbe3f810",
   "metadata": {},
   "outputs": [],
   "source": [
    "def xetra_report_1(df_all):\n",
    "    df_all['opening_price'] = df_all.sort_values(by=['Time']).groupby(['ISIN','Date'])['StartPrice'].transform('first')\n",
    "    df_all['closing_price'] = df_all.sort_values(by=['Time']).groupby(['ISIN','Date'])['StartPrice'].transform('last')\n",
    "    df_all = df_all.groupby(['ISIN','Date'], as_index=True)\n",
    "    df_all = df_all.agg(\n",
    "        opening_price_euro=('opening_price','min'), \n",
    "        closing_price_euro=('closing_price','min'), \n",
    "        minimum_price_euro=('MinPrice','min'), \n",
    "        maxmimum_price_euro=('MaxPrice','max'), \n",
    "        daily_traded_volume=('TradedVolume','sum') )\n",
    "    df_all['prev_closing_price'] = df_all.sort_values(by=['Date']).groupby(['ISIN'])['closing_price_euro'].shift(1)\n",
    "    df_all['change_prev_closing_precent'] = (df_all['closing_price_euro'] - df_all['prev_closing_price']) / df_all['prev_closing_price'] * 100\n",
    "    df_all.drop(columns=['closing_price_euro'], inplace=True)\n",
    "    df_all = df_all.round(decimals=2)\n",
    "    return df_all"
   ]
  },
  {
   "cell_type": "code",
   "execution_count": 22,
   "id": "157c3713",
   "metadata": {},
   "outputs": [],
   "source": [
    "def load_report1(bucket_target, df_all):\n",
    "    key = 'parquet/xetra_daily_report_'+datetime.today().strftime('%y%m%d_%H%M%S')+'.parquet'\n",
    "    output_buffer = BytesIO()\n",
    "    df_all.to_parquet(output_buffer, index=False)\n",
    "    bucket_target.put_object(Body=output_buffer.getvalue(),Key=key)"
   ]
  },
  {
   "cell_type": "code",
   "execution_count": null,
   "id": "b41d417c",
   "metadata": {},
   "outputs": [],
   "source": [
    "def main():\n",
    "\n",
    "    arg_date = '2022-12-28'\n",
    "    source_date_format = '%Y-%m-%d'\n",
    "    source_bucket = 'xetra-1234'\n",
    "    target_bucket = 'xetra-destination'\n",
    "    cols_needed = ['ISIN', 'Date', 'Time', 'StartPrice', 'MaxPrice', 'MinPrice','EndPrice', 'TradedVolume', 'NumberOfTrades']\n",
    "\n",
    "    s3 = boto3.resource('s3')\n",
    "    bucket = s3.Bucket(source_bucket) \n",
    "    bucket_target = s3.Bucket(target_bucket)\n",
    "    \n",
    "    # Extract\n",
    "    objects = return_objects(bucket,arg_date,source_date_format)\n",
    "\n",
    "    # Transform\n",
    "    df_all_final = return_report_1(objects, bucket, cols_needed)\n",
    "\n",
    "    # Load\n",
    "    load_report1(bucket_target, df_all_final)\n"
   ]
  },
  {
   "cell_type": "code",
   "execution_count": 51,
   "id": "7a474153",
   "metadata": {},
   "outputs": [
    {
     "data": {
      "text/plain": [
       "['2022-12-16',\n",
       " '2022-12-17',\n",
       " '2022-12-18',\n",
       " '2022-12-19',\n",
       " '2022-12-20',\n",
       " '2022-12-21',\n",
       " '2022-12-22',\n",
       " '2022-12-23',\n",
       " '2022-12-24',\n",
       " '2022-12-25',\n",
       " '2022-12-26',\n",
       " '2022-12-27',\n",
       " '2022-12-28',\n",
       " '2022-12-29',\n",
       " '2022-12-30',\n",
       " '2022-12-31',\n",
       " '2023-01-01',\n",
       " '2023-01-02']"
      ]
     },
     "execution_count": 51,
     "metadata": {},
     "output_type": "execute_result"
    }
   ],
   "source": [
    "arg_date = '2022-12-17'\n",
    "source_date_format = '%Y-%m-%d'\n",
    "source_bucket = 'xetra-1234'\n",
    "s3 = boto3.resource('s3')\n",
    "bucket = s3.Bucket(source_bucket)\n",
    "return_objects(bucket,arg_date,source_date_format)"
   ]
  },
  {
   "cell_type": "code",
   "execution_count": 42,
   "id": "3869d344",
   "metadata": {},
   "outputs": [
    {
     "data": {
      "text/plain": [
       "['2022-12-27',\n",
       " '2022-12-28',\n",
       " '2022-12-29',\n",
       " '2022-12-30',\n",
       " '2022-12-31',\n",
       " '2023-01-01',\n",
       " '2023-01-02']"
      ]
     },
     "execution_count": 42,
     "metadata": {},
     "output_type": "execute_result"
    }
   ],
   "source": [
    "return_date_list"
   ]
  },
  {
   "cell_type": "code",
   "execution_count": null,
   "id": "66850042",
   "metadata": {},
   "outputs": [],
   "source": []
  }
 ],
 "metadata": {
  "kernelspec": {
   "display_name": "Python 3 (ipykernel)",
   "language": "python",
   "name": "python3"
  },
  "language_info": {
   "codemirror_mode": {
    "name": "ipython",
    "version": 3
   },
   "file_extension": ".py",
   "mimetype": "text/x-python",
   "name": "python",
   "nbconvert_exporter": "python",
   "pygments_lexer": "ipython3",
   "version": "3.9.0"
  }
 },
 "nbformat": 4,
 "nbformat_minor": 5
}
